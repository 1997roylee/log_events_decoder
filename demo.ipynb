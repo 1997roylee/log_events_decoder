{
 "cells": [
  {
   "cell_type": "code",
   "execution_count": 25,
   "metadata": {},
   "outputs": [
    {
     "name": "stdout",
     "output_type": "stream",
     "text": [
      "Loading transactions...\n",
      "Loading 0xe6d48bf4ee912235398b96e16db6f310c21e82cb_34_500.json...\n",
      "Loading 0xe6d48bf4ee912235398b96e16db6f310c21e82cb_35_500.json...\n",
      "Loading 0xe6d48bf4ee912235398b96e16db6f310c21e82cb_36_114.json...\n",
      "Loading 0xe6d48bf4ee912235398b96e16db6f310c21e82cb_23_500.json...\n",
      "Loading 0xe6d48bf4ee912235398b96e16db6f310c21e82cb_22_500.json...\n",
      "Loading 0xe6d48bf4ee912235398b96e16db6f310c21e82cb_29_500.json...\n",
      "Loading 0xe6d48bf4ee912235398b96e16db6f310c21e82cb_28_500.json...\n",
      "Loading 0xe6d48bf4ee912235398b96e16db6f310c21e82cb_1_500.json...\n",
      "Loading 0xe6d48bf4ee912235398b96e16db6f310c21e82cb_0_500.json...\n",
      "Loading 0xe6d48bf4ee912235398b96e16db6f310c21e82cb_17_500.json...\n",
      "Loading 0xe6d48bf4ee912235398b96e16db6f310c21e82cb_16_500.json...\n",
      "Loading 0xe6d48bf4ee912235398b96e16db6f310c21e82cb_24_500.json...\n",
      "Loading 0xe6d48bf4ee912235398b96e16db6f310c21e82cb_25_500.json...\n",
      "Loading 0xe6d48bf4ee912235398b96e16db6f310c21e82cb_6_500.json...\n",
      "Loading 0xe6d48bf4ee912235398b96e16db6f310c21e82cb_7_500.json...\n",
      "Loading 0xe6d48bf4ee912235398b96e16db6f310c21e82cb_10_500.json...\n",
      "Loading 0xe6d48bf4ee912235398b96e16db6f310c21e82cb_11_500.json...\n",
      "Loading 0xe6d48bf4ee912235398b96e16db6f310c21e82cb_33_500.json...\n",
      "Loading 0xe6d48bf4ee912235398b96e16db6f310c21e82cb_32_500.json...\n",
      "Loading 0xe6d48bf4ee912235398b96e16db6f310c21e82cb_2_500.json...\n",
      "Loading 0xe6d48bf4ee912235398b96e16db6f310c21e82cb_3_500.json...\n",
      "Loading 0xe6d48bf4ee912235398b96e16db6f310c21e82cb_14_500.json...\n",
      "Loading 0xe6d48bf4ee912235398b96e16db6f310c21e82cb_15_500.json...\n",
      "Loading 0xe6d48bf4ee912235398b96e16db6f310c21e82cb_20_500.json...\n",
      "Loading 0xe6d48bf4ee912235398b96e16db6f310c21e82cb_21_500.json...\n",
      "Loading 0xe6d48bf4ee912235398b96e16db6f310c21e82cb_8_500.json...\n",
      "Loading 0xe6d48bf4ee912235398b96e16db6f310c21e82cb_9_500.json...\n",
      "Loading 0xe6d48bf4ee912235398b96e16db6f310c21e82cb_30_500.json...\n",
      "Loading 0xe6d48bf4ee912235398b96e16db6f310c21e82cb_31_500.json...\n",
      "Loading 0xe6d48bf4ee912235398b96e16db6f310c21e82cb_5_500.json...\n",
      "Loading 0xe6d48bf4ee912235398b96e16db6f310c21e82cb_4_500.json...\n",
      "Loading 0xe6d48bf4ee912235398b96e16db6f310c21e82cb_13_500.json...\n",
      "Loading 0xe6d48bf4ee912235398b96e16db6f310c21e82cb_12_500.json...\n",
      "Loading 0xe6d48bf4ee912235398b96e16db6f310c21e82cb_27_500.json...\n",
      "Loading 0xe6d48bf4ee912235398b96e16db6f310c21e82cb_26_500.json...\n",
      "Loading 0xe6d48bf4ee912235398b96e16db6f310c21e82cb_19_500.json...\n",
      "Loading 0xe6d48bf4ee912235398b96e16db6f310c21e82cb_18_500.json...\n"
     ]
    }
   ],
   "source": [
    "import json\n",
    "import os\n",
    "\n",
    "ADDRESS = \"0xe6d48bf4ee912235398b96e16db6f310c21e82cb\"\n",
    "PATH = \"./raw_transactions/%s\" % (ADDRESS)\n",
    "\n",
    "\n",
    "def load_files(files):\n",
    "    print(\"Loading transactions...\")\n",
    "    transactions = []\n",
    "    for file in files:\n",
    "        print(\"Loading %s...\" % (file))\n",
    "        if file == \".DS_Store\":\n",
    "            continue\n",
    "\n",
    "        with open(PATH + \"/\" + file) as f:\n",
    "            transactions += json.loads(f.read()).get(\"items\")\n",
    "    return transactions\n",
    "\n",
    "\n",
    "files = os.listdir(PATH)\n",
    "transactions = load_files(files)\n",
    "\n",
    "\n",
    "# with open(\"raw_transactions/0xb/{}.json\".format(ADDRESS), 'rb') as f:\n",
    "#     transactions = json.loads(f.read()).get(\"items\")"
   ]
  },
  {
   "cell_type": "code",
   "execution_count": null,
   "metadata": {},
   "outputs": [],
   "source": []
  },
  {
   "cell_type": "code",
   "execution_count": 26,
   "metadata": {},
   "outputs": [
    {
     "name": "stdout",
     "output_type": "stream",
     "text": [
      "16653\n"
     ]
    }
   ],
   "source": [
    "from blockchain.domains.eth_transaction import EthTransaction\n",
    "\n",
    "eth_transactions = list(map(lambda transaction: EthTransaction(transaction), transactions))\n",
    "eth_transactions = list(filter(lambda eth_transactions: eth_transactions.successful == True, eth_transactions))\n",
    "print(len(eth_transactions))"
   ]
  },
  {
   "cell_type": "code",
   "execution_count": 27,
   "metadata": {},
   "outputs": [
    {
     "name": "stdout",
     "output_type": "stream",
     "text": [
      "33358\n"
     ]
    }
   ],
   "source": [
    "eth_log_events = list(map(\n",
    "    lambda cleaned_transaction: cleaned_transaction.log_events, eth_transactions))\n",
    "eth_log_events = sum(eth_log_events, [])\n",
    "print(len(eth_log_events))"
   ]
  },
  {
   "cell_type": "code",
   "execution_count": 28,
   "metadata": {},
   "outputs": [],
   "source": [
    "from blockchain.services.eth_token_transfer_extractor import EthTokenTransferExtractor\n",
    "from blockchain.services.eth_token_sale_extractor import EthTokenSaleExtractor\n",
    "\n",
    "eth_token_transfer_extractor = EthTokenTransferExtractor()\n",
    "eth_token_sale_extractor = EthTokenSaleExtractor()\n",
    "eth_token_transfer_list = list()\n",
    "eth_token_non_transfer_list = list()\n",
    "eth_log_event_list = list()\n",
    "\n",
    "for eth_log_event in eth_log_events:\n",
    "    eth_log_event_list.append(eth_log_event.to_json())\n",
    "    eth_token_transfer = eth_token_transfer_extractor.extract_token_transfer_from_log_event(eth_log_event)\n",
    "    if eth_token_transfer != None:\n",
    "        eth_token_transfer_list.append(eth_token_transfer.to_json())\n",
    "    else:\n",
    "        eth_token_non_transfer = eth_token_sale_extractor.extract_token_non_transfer_from_log_event(eth_log_event)\n",
    "        eth_token_non_transfer_list.append(eth_token_non_transfer.to_json()) if eth_token_non_transfer != None else None\n",
    "    \n",
    "sales_df = eth_token_sale_extractor.extract_token_sales_from_log_events(eth_log_event_list, eth_token_non_transfer_list)\n",
    "\n",
    "eth_token_transfer_df = eth_token_transfer_extractor.reconnect_transfer_relationship(eth_token_transfer_list)\n",
    "\n",
    "eth_token_transfer_df = eth_token_transfer_df.sort_values(['log_index'], ascending=False).groupby(\n",
    "            ['token_id', 'transaction_hash']).head(1)\n",
    "\n",
    "eth_token_transfer_df.to_csv(\"a.csv\")\n",
    "final_df = eth_token_transfer_df.merge(sales_df, left_on=['from_address', 'to_address', 'transaction_hash'], right_on=['maker', 'taker', 'transaction_hash'], how='left')\n"
   ]
  },
  {
   "cell_type": "code",
   "execution_count": 29,
   "metadata": {},
   "outputs": [],
   "source": [
    "# a = filter(lambda log_event: log_event.transaction_hash == \"0x6833305ac95da67f7fc515116145da311745c5b2b70b9c20b2e22a0a20113078\",eth_log_events)\n",
    "# print(eth_token_transfer_extractor.extract_token_transfer_from_log_event(list(a)[0]))\n",
    "# print(final_df[final_df['action'] == \"Minted\"])\n",
    "# print(final_df[final_df['transaction_hash'] == \"0x6833305ac95da67f7fc515116145da311745c5b2b70b9c20b2e22a0a20113078\"])"
   ]
  },
  {
   "cell_type": "code",
   "execution_count": 30,
   "metadata": {},
   "outputs": [],
   "source": [
    "import gzip\n",
    "\n",
    "with gzip.open(\"output/{}\".format(ADDRESS + \".json.gz\"), 'w') as f:\n",
    "    f.write(final_df.to_json(orient=\"records\").encode('utf-8'))"
   ]
  },
  {
   "cell_type": "code",
   "execution_count": 31,
   "metadata": {},
   "outputs": [],
   "source": [
    "final_df.to_csv(\"final.csv\")"
   ]
  }
 ],
 "metadata": {
  "kernelspec": {
   "display_name": "Python 3.9.1 64-bit ('3.9.1')",
   "language": "python",
   "name": "python3"
  },
  "language_info": {
   "codemirror_mode": {
    "name": "ipython",
    "version": 3
   },
   "file_extension": ".py",
   "mimetype": "text/x-python",
   "name": "python",
   "nbconvert_exporter": "python",
   "pygments_lexer": "ipython3",
   "version": "3.9.1"
  },
  "orig_nbformat": 4,
  "vscode": {
   "interpreter": {
    "hash": "7d9fc02de2d8cf53dc1b13207fec4e471ac74b54ee2a19dd4078390f18f225ca"
   }
  }
 },
 "nbformat": 4,
 "nbformat_minor": 2
}
